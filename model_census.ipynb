{
 "cells": [
  {
   "cell_type": "code",
   "execution_count": 75,
   "metadata": {},
   "outputs": [],
   "source": [
    "import polars as pl\n",
    "import numpy as np\n",
    "import geopandas as gpd\n",
    "from pathlib import Path\n",
    "import pyarrow\n",
    "import matplotlib.pyplot as plt\n",
    "from IPython.display import Image\n",
    "\n",
    "%matplotlib inline\n",
    "\n",
    "PARENT_FOLDER = Path().resolve().parent\n",
    "CURRENT_DIR = Path().resolve()"
   ]
  },
  {
   "cell_type": "code",
   "execution_count": 87,
   "metadata": {},
   "outputs": [],
   "source": [
    "file_path = CURRENT_DIR.parent / \"Data\" / \"Travel\" / \"US Commute Flows by Residence County.csv\"\n",
    "us_commute_flows = pl.read_csv(file_path, encoding='utf8')\n",
    "\n",
    "file_path = CURRENT_DIR.parent / \"Data\" / \"Travel\" / \"UK Commute Flows by Area Code.csv\"\n",
    "uk_commute_flows = pl.read_csv(file_path, encoding='utf8')"
   ]
  },
  {
   "cell_type": "code",
   "execution_count": 95,
   "metadata": {},
   "outputs": [
    {
     "data": {
      "text/html": [
       "<div><style>\n",
       ".dataframe > thead > tr,\n",
       ".dataframe > tbody > tr {\n",
       "  text-align: right;\n",
       "  white-space: pre-wrap;\n",
       "}\n",
       "</style>\n",
       "<small>shape: (73_398, 5)</small><table border=\"1\" class=\"dataframe\"><thead><tr><th>Residence_Area_Code</th><th>Residence_Area_Name</th><th>Workplace_Area_Code</th><th>Workplace_Area_Name</th><th>Count</th></tr><tr><td>str</td><td>str</td><td>str</td><td>str</td><td>i32</td></tr></thead><tbody><tr><td>&quot;E06000001&quot;</td><td>&quot;Hartlepool&quot;</td><td>&quot;E06000001&quot;</td><td>&quot;Hartlepool&quot;</td><td>14513</td></tr><tr><td>&quot;E06000001&quot;</td><td>&quot;Hartlepool&quot;</td><td>&quot;E06000002&quot;</td><td>&quot;Middlesbrough&quot;</td><td>1500</td></tr><tr><td>&quot;E06000001&quot;</td><td>&quot;Hartlepool&quot;</td><td>&quot;E06000003&quot;</td><td>&quot;Redcar and Cleveland&quot;</td><td>671</td></tr><tr><td>&quot;E06000001&quot;</td><td>&quot;Hartlepool&quot;</td><td>&quot;E06000004&quot;</td><td>&quot;Stockton-on-Tees&quot;</td><td>4240</td></tr><tr><td>&quot;E06000001&quot;</td><td>&quot;Hartlepool&quot;</td><td>&quot;E06000005&quot;</td><td>&quot;Darlington&quot;</td><td>398</td></tr><tr><td>&hellip;</td><td>&hellip;</td><td>&hellip;</td><td>&hellip;</td><td>&hellip;</td></tr><tr><td>&quot;W06000024&quot;</td><td>&quot;Merthyr Tydfil&quot;</td><td>&quot;W06000020&quot;</td><td>&quot;Torfaen&quot;</td><td>228</td></tr><tr><td>&quot;W06000024&quot;</td><td>&quot;Merthyr Tydfil&quot;</td><td>&quot;W06000021&quot;</td><td>&quot;Monmouthshire&quot;</td><td>254</td></tr><tr><td>&quot;W06000024&quot;</td><td>&quot;Merthyr Tydfil&quot;</td><td>&quot;W06000022&quot;</td><td>&quot;Newport&quot;</td><td>242</td></tr><tr><td>&quot;W06000024&quot;</td><td>&quot;Merthyr Tydfil&quot;</td><td>&quot;W06000023&quot;</td><td>&quot;Powys&quot;</td><td>256</td></tr><tr><td>&quot;W06000024&quot;</td><td>&quot;Merthyr Tydfil&quot;</td><td>&quot;W06000024&quot;</td><td>&quot;Merthyr Tydfil&quot;</td><td>8983</td></tr></tbody></table></div>"
      ],
      "text/plain": [
       "shape: (73_398, 5)\n",
       "┌─────────────────────┬─────────────────────┬─────────────────────┬──────────────────────┬───────┐\n",
       "│ Residence_Area_Code ┆ Residence_Area_Name ┆ Workplace_Area_Code ┆ Workplace_Area_Name  ┆ Count │\n",
       "│ ---                 ┆ ---                 ┆ ---                 ┆ ---                  ┆ ---   │\n",
       "│ str                 ┆ str                 ┆ str                 ┆ str                  ┆ i32   │\n",
       "╞═════════════════════╪═════════════════════╪═════════════════════╪══════════════════════╪═══════╡\n",
       "│ E06000001           ┆ Hartlepool          ┆ E06000001           ┆ Hartlepool           ┆ 14513 │\n",
       "│ E06000001           ┆ Hartlepool          ┆ E06000002           ┆ Middlesbrough        ┆ 1500  │\n",
       "│ E06000001           ┆ Hartlepool          ┆ E06000003           ┆ Redcar and Cleveland ┆ 671   │\n",
       "│ E06000001           ┆ Hartlepool          ┆ E06000004           ┆ Stockton-on-Tees     ┆ 4240  │\n",
       "│ E06000001           ┆ Hartlepool          ┆ E06000005           ┆ Darlington           ┆ 398   │\n",
       "│ …                   ┆ …                   ┆ …                   ┆ …                    ┆ …     │\n",
       "│ W06000024           ┆ Merthyr Tydfil      ┆ W06000020           ┆ Torfaen              ┆ 228   │\n",
       "│ W06000024           ┆ Merthyr Tydfil      ┆ W06000021           ┆ Monmouthshire        ┆ 254   │\n",
       "│ W06000024           ┆ Merthyr Tydfil      ┆ W06000022           ┆ Newport              ┆ 242   │\n",
       "│ W06000024           ┆ Merthyr Tydfil      ┆ W06000023           ┆ Powys                ┆ 256   │\n",
       "│ W06000024           ┆ Merthyr Tydfil      ┆ W06000024           ┆ Merthyr Tydfil       ┆ 8983  │\n",
       "└─────────────────────┴─────────────────────┴─────────────────────┴──────────────────────┴───────┘"
      ]
     },
     "execution_count": 95,
     "metadata": {},
     "output_type": "execute_result"
    }
   ],
   "source": [
    "uk_commute_flows"
   ]
  },
  {
   "cell_type": "code",
   "execution_count": 88,
   "metadata": {},
   "outputs": [],
   "source": [
    "uk_commute_flows = uk_commute_flows.with_columns(\n",
    "    pl.col(\"Count\").str.replace_all(r\"[^0-9]\", \"\").cast(pl.Int32).alias(\"Count\")\n",
    ")\n",
    "uk_commute_flows\n",
    "\n",
    "us_commute_flows = us_commute_flows.with_columns(\n",
    "    pl.col(\"Workers_In_Commuting_Flow\").str.replace_all(r\"[^0-9]\", \"\").cast(pl.Int32),\n",
    "    pl.col(\"Margin_of_Error\").str.replace_all(r\"[^0-9]\", \"\").cast(pl.Int32)\n",
    ")"
   ]
  },
  {
   "cell_type": "code",
   "execution_count": 96,
   "metadata": {},
   "outputs": [
    {
     "data": {
      "text/html": [
       "<div><style>\n",
       ".dataframe > thead > tr,\n",
       ".dataframe > tbody > tr {\n",
       "  text-align: right;\n",
       "  white-space: pre-wrap;\n",
       "}\n",
       "</style>\n",
       "<small>shape: (374, 2)</small><table border=\"1\" class=\"dataframe\"><thead><tr><th>Workplace_Area_Name</th><th>Total_Trips_To_Workplace</th></tr><tr><td>str</td><td>i32</td></tr></thead><tbody><tr><td>&quot;Birmingham&quot;</td><td>287033</td></tr><tr><td>&quot;Leeds&quot;</td><td>222151</td></tr><tr><td>&quot;Westminster&quot;</td><td>199443</td></tr><tr><td>&quot;Manchester&quot;</td><td>184962</td></tr><tr><td>&quot;Sheffield&quot;</td><td>153589</td></tr><tr><td>&hellip;</td><td>&hellip;</td></tr><tr><td>&quot;Mid Ulster&quot;</td><td>37</td></tr><tr><td>&quot;East Dunbartonshire&quot;</td><td>35</td></tr><tr><td>&quot;Clackmannanshire&quot;</td><td>34</td></tr><tr><td>&quot;Mid and East Antrim&quot;</td><td>25</td></tr><tr><td>&quot;East Renfrewshire&quot;</td><td>21</td></tr></tbody></table></div>"
      ],
      "text/plain": [
       "shape: (374, 2)\n",
       "┌─────────────────────┬──────────────────────────┐\n",
       "│ Workplace_Area_Name ┆ Total_Trips_To_Workplace │\n",
       "│ ---                 ┆ ---                      │\n",
       "│ str                 ┆ i32                      │\n",
       "╞═════════════════════╪══════════════════════════╡\n",
       "│ Birmingham          ┆ 287033                   │\n",
       "│ Leeds               ┆ 222151                   │\n",
       "│ Westminster         ┆ 199443                   │\n",
       "│ Manchester          ┆ 184962                   │\n",
       "│ Sheffield           ┆ 153589                   │\n",
       "│ …                   ┆ …                        │\n",
       "│ Mid Ulster          ┆ 37                       │\n",
       "│ East Dunbartonshire ┆ 35                       │\n",
       "│ Clackmannanshire    ┆ 34                       │\n",
       "│ Mid and East Antrim ┆ 25                       │\n",
       "│ East Renfrewshire   ┆ 21                       │\n",
       "└─────────────────────┴──────────────────────────┘"
      ]
     },
     "execution_count": 96,
     "metadata": {},
     "output_type": "execute_result"
    }
   ],
   "source": [
    "uk_commute_flows.group_by(\"Workplace_Area_Name\").agg(\n",
    "    pl.col(\"Count\").sum().alias(\"Total_Trips_To_Workplace\")\n",
    ").sort(\"Total_Trips_To_Workplace\", descending=True)"
   ]
  },
  {
   "cell_type": "code",
   "execution_count": 94,
   "metadata": {},
   "outputs": [
    {
     "data": {
      "text/html": [
       "<div><style>\n",
       ".dataframe > thead > tr,\n",
       ".dataframe > tbody > tr {\n",
       "  text-align: right;\n",
       "  white-space: pre-wrap;\n",
       "}\n",
       "</style>\n",
       "<small>shape: (1_961, 2)</small><table border=\"1\" class=\"dataframe\"><thead><tr><th>Workplace_County_Name</th><th>Workers_In_Commuting_Flow</th></tr><tr><td>str</td><td>i32</td></tr></thead><tbody><tr><td>&quot;Los Angeles County&quot;</td><td>4906906</td></tr><tr><td>&quot;Orange County&quot;</td><td>2806483</td></tr><tr><td>&quot;Cook County&quot;</td><td>2684000</td></tr><tr><td>&quot;Harris County&quot;</td><td>2520499</td></tr><tr><td>&quot;New York County&quot;</td><td>2494885</td></tr><tr><td>&hellip;</td><td>&hellip;</td></tr><tr><td>&quot;Treasure County&quot;</td><td>234</td></tr><tr><td>&quot;Petroleum County&quot;</td><td>229</td></tr><tr><td>&quot;Issaquena County&quot;</td><td>203</td></tr><tr><td>&quot;Arthur County&quot;</td><td>201</td></tr><tr><td>&quot;Kalawao County&quot;</td><td>84</td></tr></tbody></table></div>"
      ],
      "text/plain": [
       "shape: (1_961, 2)\n",
       "┌───────────────────────┬───────────────────────────┐\n",
       "│ Workplace_County_Name ┆ Workers_In_Commuting_Flow │\n",
       "│ ---                   ┆ ---                       │\n",
       "│ str                   ┆ i32                       │\n",
       "╞═══════════════════════╪═══════════════════════════╡\n",
       "│ Los Angeles County    ┆ 4906906                   │\n",
       "│ Orange County         ┆ 2806483                   │\n",
       "│ Cook County           ┆ 2684000                   │\n",
       "│ Harris County         ┆ 2520499                   │\n",
       "│ New York County       ┆ 2494885                   │\n",
       "│ …                     ┆ …                         │\n",
       "│ Treasure County       ┆ 234                       │\n",
       "│ Petroleum County      ┆ 229                       │\n",
       "│ Issaquena County      ┆ 203                       │\n",
       "│ Arthur County         ┆ 201                       │\n",
       "│ Kalawao County        ┆ 84                        │\n",
       "└───────────────────────┴───────────────────────────┘"
      ]
     },
     "execution_count": 94,
     "metadata": {},
     "output_type": "execute_result"
    }
   ],
   "source": [
    "us_commute_flows.group_by(\"Workplace_County_Name\").agg(\n",
    "    pl.col(\"Workers_In_Commuting_Flow\").sum()\n",
    ").sort(\"Workers_In_Commuting_Flow\", descending=True)"
   ]
  }
 ],
 "metadata": {
  "kernelspec": {
   "display_name": "Python 3",
   "language": "python",
   "name": "python3"
  },
  "language_info": {
   "codemirror_mode": {
    "name": "ipython",
    "version": 3
   },
   "file_extension": ".py",
   "mimetype": "text/x-python",
   "name": "python",
   "nbconvert_exporter": "python",
   "pygments_lexer": "ipython3",
   "version": "3.11.9"
  }
 },
 "nbformat": 4,
 "nbformat_minor": 2
}
