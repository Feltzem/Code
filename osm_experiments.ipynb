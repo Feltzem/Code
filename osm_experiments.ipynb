{
 "cells": [
  {
   "cell_type": "code",
   "execution_count": null,
   "id": "47d998e6",
   "metadata": {},
   "outputs": [],
   "source": [
    "import geopandas as gpd\n",
    "import osmnx as ox\n",
    "import numpy as np\n",
    "import networkx as nx\n",
    "import pandas as pd\n",
    "import fiona\n",
    "import folium\n",
    "from sklearn.cluster import DBSCAN\n",
    "import matplotlib.pyplot as plt\n",
    "from IPython.display import Image\n",
    "\n",
    "%matplotlib inline\n",
    "ox.__version__"
   ]
  },
  {
   "cell_type": "code",
   "execution_count": null,
   "id": "c6cfa0ae",
   "metadata": {},
   "outputs": [],
   "source": [
    "# Get a driving network\n",
    "city_name = \"Hamilton, NZ\"\n",
    "G = ox.graph_from_place(city_name, network_type=\"drive\")\n",
    "fig, ax = ox.plot_graph(G)"
   ]
  },
  {
   "cell_type": "code",
   "execution_count": null,
   "id": "e8aea694",
   "metadata": {},
   "outputs": [],
   "source": [
    "# Stats about the road network\n",
    "G_proj = ox.project_graph(G)\n",
    "nodes_proj = ox.graph_to_gdfs(G_proj, edges=False)\n",
    "graph_area_km = nodes_proj.unary_union.convex_hull.area/10**6\n",
    "\n",
    "print(ox.basic_stats(G_proj, area=graph_area_km, clean_int_tol=15))"
   ]
  },
  {
   "cell_type": "code",
   "execution_count": null,
   "id": "0e4488f5",
   "metadata": {},
   "outputs": [],
   "source": [
    "# get rail networks from various cities\n",
    "cities = [\n",
    "    \"Paris, France\",\n",
    "    \"London, England\",\n",
    "    \"Oslo, Norway\",\n",
    "    \"Stockholm, Sweden\",\n",
    "]\n",
    "city_single = [\"Stockholm, Sweden\"]\n",
    "custom_filter = '[\"railway\"]'\n",
    "amenities = [\"rail\", \"subway\", \"light_rail\", \"tram\", \"monorail\"]\n",
    "city_center = ox.geocode(city_single[0])\n",
    "m = folium.Map(location=[city_center[0], city_center[1]], zoom_start=5)\n",
    "\n",
    "# Create an empty graph to combine all city graphs\n",
    "combined_graph = nx.MultiDiGraph()\n",
    "\n",
    "# Iterate over each city and get the rail network\n",
    "for amenity in amenities:\n",
    "    try:\n",
    "        G = ox.graph_from_place(\n",
    "            city_single[0],\n",
    "            retain_all=False,\n",
    "            truncate_by_edge=False,\n",
    "            simplify=True,\n",
    "            custom_filter=f'[\"railway\"~\"{amenity}\"][\"service\"!~\"yard\"]',\n",
    "        )\n",
    "        for u, v, k, data in G.edges(keys=True, data=True):\n",
    "            data[\"rail_type\"] = amenity\n",
    "        combined_graph = nx.compose(combined_graph, G)\n",
    "    except Exception as e:\n",
    "            print(f\"Error processing {city_single[0]} with amenity {amenity}: {e}\")\n",
    "    \n",
    "gdf_nodes, gdf_edges = ox.graph_to_gdfs(combined_graph)\n",
    "print(gdf_edges.head())\n",
    "\n",
    "gdf_edges.to_file(\n",
    "    \"./data/rail_lines.gpkg\",\n",
    "    layer=\"rail_lines_stockholm\",\n",
    "    driver=\"GPKG\",\n",
    ")\n",
    "#ox.save_graph_geopackage(G, filepath=\"./data/paris_rail_lines.gpkg\")"
   ]
  },
  {
   "cell_type": "code",
   "execution_count": null,
   "id": "c4b56e26",
   "metadata": {},
   "outputs": [],
   "source": [
    "m = folium.Map(location=[city_center[0], city_center[1]], zoom_start=5)\n",
    "print(combined_graph)"
   ]
  },
  {
   "cell_type": "code",
   "execution_count": null,
   "id": "ffb2abfe",
   "metadata": {},
   "outputs": [],
   "source": [
    "color_mapping = {\n",
    "    \"rail\": \"blue\",\n",
    "    \"subway\": \"red\",\n",
    "    \"light_rail\": \"green\",\n",
    "    \"tram\": \"orange\",\n",
    "    \"monorail\": \"purple\"\n",
    "}\n",
    "\n",
    "for _, row in gdf_edges.iterrows():\n",
    "        name = row.get(\"name\", \"N/A\")\n",
    "        service = row.get(\"service\", \"N/A\")\n",
    "        rail_type = row.get(\"rail_type\", \"N/A\")\n",
    "        color = color_mapping.get(rail_type, \"blue\")\n",
    "        popup_text = f\"Name: {name}<br>Service: {service}<br>Rail Type: {rail_type}\"\n",
    "\n",
    "        folium.PolyLine(\n",
    "            locations=[(point[1], point[0]) for point in row[\"geometry\"].coords],\n",
    "            color=color,\n",
    "            weight=2,\n",
    "            popup=folium.Popup(popup_text, max_width=300)\n",
    "        ).add_to(m)\n",
    "\n",
    "m"
   ]
  }
 ],
 "metadata": {
  "kernelspec": {
   "display_name": "Python 3",
   "language": "python",
   "name": "python3"
  },
  "language_info": {
   "name": "python",
   "version": "3.11.9"
  }
 },
 "nbformat": 4,
 "nbformat_minor": 5
}
